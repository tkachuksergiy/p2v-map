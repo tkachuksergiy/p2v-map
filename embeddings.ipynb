{
 "cells": [
  {
   "cell_type": "code",
   "execution_count": 1,
   "metadata": {},
   "outputs": [],
   "source": [
    "import numpy as np\n",
    "import pandas as pd"
   ]
  },
  {
   "cell_type": "code",
   "execution_count": 2,
   "metadata": {},
   "outputs": [],
   "source": [
    "# Read in results/weights/wi_02_002001.npy\n",
    "wi = np.load(\"results/weights/wi_02_002001.npy\")"
   ]
  },
  {
   "cell_type": "code",
   "execution_count": 4,
   "metadata": {},
   "outputs": [
    {
     "data": {
      "text/plain": [
       "(300, 30)"
      ]
     },
     "execution_count": 4,
     "metadata": {},
     "output_type": "execute_result"
    }
   ],
   "source": [
    "wi.shape"
   ]
  },
  {
   "cell_type": "code",
   "execution_count": 14,
   "metadata": {},
   "outputs": [
    {
     "data": {
      "text/plain": [
       "array([[-0.2968282 , -0.252377  ,  0.292173  , ..., -0.28212988,\n",
       "        -0.29201403,  0.24879585],\n",
       "       [-0.29352203, -0.26570955,  0.26969206, ..., -0.26601565,\n",
       "        -0.2800169 ,  0.23368005],\n",
       "       [-0.2631872 , -0.260468  ,  0.2513144 , ..., -0.29641917,\n",
       "        -0.29123104,  0.27760014],\n",
       "       ...,\n",
       "       [-0.27332756, -0.31104204,  0.2802402 , ..., -0.26739934,\n",
       "        -0.26537886,  0.26630127],\n",
       "       [-0.2556881 , -0.29105404,  0.284012  , ..., -0.26393673,\n",
       "        -0.29644233,  0.23941913],\n",
       "       [-0.29093888, -0.286931  ,  0.27634242, ..., -0.24037404,\n",
       "        -0.26687416,  0.25284806]], dtype=float32)"
      ]
     },
     "execution_count": 14,
     "metadata": {},
     "output_type": "execute_result"
    }
   ],
   "source": [
    "wi"
   ]
  },
  {
   "cell_type": "code",
   "execution_count": 9,
   "metadata": {},
   "outputs": [],
   "source": [
    "# Read in data/products.parquet and market-baskets.parquet\n",
    "products = pd.read_parquet(\"data/jm/products.parquet\")\n",
    "baskets = pd.read_parquet(\"data/jm/market-baskets.parquet\")"
   ]
  },
  {
   "cell_type": "code",
   "execution_count": 10,
   "metadata": {},
   "outputs": [
    {
     "name": "stdout",
     "output_type": "stream",
     "text": [
      "      product  category\n",
      "696    101656       428\n",
      "1592   122072       619\n",
      "2437   126757       619\n",
      "2919   134599       346\n",
      "3177   136137       722\n",
      "(2301, 2)\n",
      "       customer  product                basket\n",
      "index                                         \n",
      "16426         0   147867  1104-7884-20210102-1\n",
      "24701         1   117100  1104-8239-20210102-1\n",
      "29316         2   147543  1104-1250-20210102-4\n",
      "52635         3   137780   1104-487-20210102-5\n",
      "62534         4   147543   1104-555-20210102-5\n",
      "(954887, 3)\n"
     ]
    }
   ],
   "source": [
    "# Print the first 5 rows of products and baskets\n",
    "# Print shape of products and baskets\n",
    "print(products.head())\n",
    "print(products.shape)\n",
    "print(baskets.head())\n",
    "print(baskets.shape)"
   ]
  },
  {
   "cell_type": "code",
   "execution_count": 13,
   "metadata": {},
   "outputs": [
    {
     "data": {
      "text/plain": [
       "300"
      ]
     },
     "execution_count": 13,
     "metadata": {},
     "output_type": "execute_result"
    }
   ],
   "source": [
    "baskets['product'].nunique()"
   ]
  }
 ],
 "metadata": {
  "kernelspec": {
   "display_name": "p2v",
   "language": "python",
   "name": "python3"
  },
  "language_info": {
   "codemirror_mode": {
    "name": "ipython",
    "version": 3
   },
   "file_extension": ".py",
   "mimetype": "text/x-python",
   "name": "python",
   "nbconvert_exporter": "python",
   "pygments_lexer": "ipython3",
   "version": "3.8.2"
  },
  "orig_nbformat": 4
 },
 "nbformat": 4,
 "nbformat_minor": 2
}
